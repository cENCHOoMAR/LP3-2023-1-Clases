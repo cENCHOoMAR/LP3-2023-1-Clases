{
 "cells": [
  {
   "cell_type": "markdown",
   "id": "94ac09ab",
   "metadata": {},
   "source": [
    "# Semana 03\n",
    "\n",
    "Omar Antonio Ccencho Barazorda"
   ]
  },
  {
   "cell_type": "markdown",
   "id": "4995bd26",
   "metadata": {},
   "source": [
    "# Temas:\n",
    "    1. Números\n",
    "    2. Variables\n",
    "    3. Manejo de cadenas\n",
    "    4. Ingreso de datos por teclado\n",
    "    5. Operadores\n",
    "    "
   ]
  },
  {
   "cell_type": "code",
   "execution_count": 2,
   "id": "70585e39",
   "metadata": {},
   "outputs": [
    {
     "data": {
      "text/plain": [
       "13"
      ]
     },
     "execution_count": 2,
     "metadata": {},
     "output_type": "execute_result"
    }
   ],
   "source": [
    "9+4"
   ]
  },
  {
   "cell_type": "code",
   "execution_count": null,
   "id": "10b848b5",
   "metadata": {},
   "outputs": [],
   "source": []
  }
 ],
 "metadata": {
  "kernelspec": {
   "display_name": "Python 3 (ipykernel)",
   "language": "python",
   "name": "python3"
  },
  "language_info": {
   "codemirror_mode": {
    "name": "ipython",
    "version": 3
   },
   "file_extension": ".py",
   "mimetype": "text/x-python",
   "name": "python",
   "nbconvert_exporter": "python",
   "pygments_lexer": "ipython3",
   "version": "3.9.12"
  }
 },
 "nbformat": 4,
 "nbformat_minor": 5
}
